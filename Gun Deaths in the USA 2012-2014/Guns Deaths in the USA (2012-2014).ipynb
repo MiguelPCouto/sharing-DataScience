{
 "cells": [
  {
   "cell_type": "markdown",
   "metadata": {},
   "source": [
    "# Guns Deaths in the USA (2012-2014)"
   ]
  },
  {
   "cell_type": "markdown",
   "metadata": {},
   "source": [
    "## Importing and opening dataset"
   ]
  },
  {
   "cell_type": "code",
   "execution_count": 172,
   "metadata": {},
   "outputs": [],
   "source": [
    "import csv\n",
    "f = open(\"full_data.csv\",\"r\")\n",
    "data_reader = csv.reader(f)\n",
    "data = list(data_reader)"
   ]
  },
  {
   "cell_type": "markdown",
   "metadata": {},
   "source": [
    "## Using list slicing to remove headers from a List of Lists"
   ]
  },
  {
   "cell_type": "code",
   "execution_count": 173,
   "metadata": {},
   "outputs": [],
   "source": [
    "headers = data[0]\n",
    "data = data[1:]"
   ]
  },
  {
   "cell_type": "markdown",
   "metadata": {},
   "source": [
    "## Counts of Gun Deaths per year"
   ]
  },
  {
   "cell_type": "code",
   "execution_count": 174,
   "metadata": {},
   "outputs": [],
   "source": [
    "years = [n[1] for n in data]"
   ]
  },
  {
   "cell_type": "code",
   "execution_count": 175,
   "metadata": {},
   "outputs": [],
   "source": [
    "years_counts = {}\n",
    "\n",
    "for each in years:\n",
    "    if each in years_counts:\n",
    "        years_counts[each] = years_counts[each] + 1\n",
    "    else:\n",
    "        years_counts[each] = 1"
   ]
  },
  {
   "cell_type": "code",
   "execution_count": 176,
   "metadata": {},
   "outputs": [
    {
     "data": {
      "text/plain": [
       "{'2012': 33563, '2013': 33636, '2014': 33599}"
      ]
     },
     "execution_count": 176,
     "metadata": {},
     "output_type": "execute_result"
    }
   ],
   "source": [
    "years_counts"
   ]
  },
  {
   "cell_type": "markdown",
   "metadata": {},
   "source": [
    "## Counts of Gun Deaths per year and month using datetime module"
   ]
  },
  {
   "cell_type": "code",
   "execution_count": 177,
   "metadata": {},
   "outputs": [],
   "source": [
    "import datetime"
   ]
  },
  {
   "cell_type": "code",
   "execution_count": 178,
   "metadata": {},
   "outputs": [],
   "source": [
    "dates = [datetime.datetime(year=int(n[1]), month=int(n[2]), day=1) for n in data]"
   ]
  },
  {
   "cell_type": "code",
   "execution_count": 179,
   "metadata": {},
   "outputs": [
    {
     "data": {
      "text/plain": [
       "[datetime.datetime(2012, 1, 1, 0, 0),\n",
       " datetime.datetime(2012, 1, 1, 0, 0),\n",
       " datetime.datetime(2012, 1, 1, 0, 0),\n",
       " datetime.datetime(2012, 2, 1, 0, 0),\n",
       " datetime.datetime(2012, 2, 1, 0, 0)]"
      ]
     },
     "execution_count": 179,
     "metadata": {},
     "output_type": "execute_result"
    }
   ],
   "source": [
    "dates[0:5]"
   ]
  },
  {
   "cell_type": "code",
   "execution_count": 180,
   "metadata": {},
   "outputs": [],
   "source": [
    "dates_counts = {}\n",
    "\n",
    "for each in dates:\n",
    "    if each in dates_counts:\n",
    "        dates_counts[each] += 1\n",
    "    else:\n",
    "        dates_counts[each] = 1"
   ]
  },
  {
   "cell_type": "code",
   "execution_count": 181,
   "metadata": {
    "scrolled": true
   },
   "outputs": [
    {
     "data": {
      "text/plain": [
       "{datetime.datetime(2012, 1, 1, 0, 0): 2758,\n",
       " datetime.datetime(2012, 2, 1, 0, 0): 2357,\n",
       " datetime.datetime(2012, 3, 1, 0, 0): 2743,\n",
       " datetime.datetime(2012, 4, 1, 0, 0): 2795,\n",
       " datetime.datetime(2012, 5, 1, 0, 0): 2999,\n",
       " datetime.datetime(2012, 6, 1, 0, 0): 2826,\n",
       " datetime.datetime(2012, 7, 1, 0, 0): 3026,\n",
       " datetime.datetime(2012, 8, 1, 0, 0): 2954,\n",
       " datetime.datetime(2012, 9, 1, 0, 0): 2852,\n",
       " datetime.datetime(2012, 10, 1, 0, 0): 2733,\n",
       " datetime.datetime(2012, 11, 1, 0, 0): 2729,\n",
       " datetime.datetime(2012, 12, 1, 0, 0): 2791,\n",
       " datetime.datetime(2013, 1, 1, 0, 0): 2864,\n",
       " datetime.datetime(2013, 2, 1, 0, 0): 2375,\n",
       " datetime.datetime(2013, 3, 1, 0, 0): 2862,\n",
       " datetime.datetime(2013, 4, 1, 0, 0): 2798,\n",
       " datetime.datetime(2013, 5, 1, 0, 0): 2806,\n",
       " datetime.datetime(2013, 6, 1, 0, 0): 2920,\n",
       " datetime.datetime(2013, 7, 1, 0, 0): 3079,\n",
       " datetime.datetime(2013, 8, 1, 0, 0): 2859,\n",
       " datetime.datetime(2013, 9, 1, 0, 0): 2742,\n",
       " datetime.datetime(2013, 10, 1, 0, 0): 2808,\n",
       " datetime.datetime(2013, 11, 1, 0, 0): 2758,\n",
       " datetime.datetime(2013, 12, 1, 0, 0): 2765,\n",
       " datetime.datetime(2014, 1, 1, 0, 0): 2651,\n",
       " datetime.datetime(2014, 2, 1, 0, 0): 2361,\n",
       " datetime.datetime(2014, 3, 1, 0, 0): 2684,\n",
       " datetime.datetime(2014, 4, 1, 0, 0): 2862,\n",
       " datetime.datetime(2014, 5, 1, 0, 0): 2864,\n",
       " datetime.datetime(2014, 6, 1, 0, 0): 2931,\n",
       " datetime.datetime(2014, 7, 1, 0, 0): 2884,\n",
       " datetime.datetime(2014, 8, 1, 0, 0): 2970,\n",
       " datetime.datetime(2014, 9, 1, 0, 0): 2914,\n",
       " datetime.datetime(2014, 10, 1, 0, 0): 2865,\n",
       " datetime.datetime(2014, 11, 1, 0, 0): 2756,\n",
       " datetime.datetime(2014, 12, 1, 0, 0): 2857}"
      ]
     },
     "execution_count": 181,
     "metadata": {},
     "output_type": "execute_result"
    }
   ],
   "source": [
    "dates_counts"
   ]
  },
  {
   "cell_type": "markdown",
   "metadata": {},
   "source": [
    "## Counts of Gun Deaths by gender"
   ]
  },
  {
   "cell_type": "code",
   "execution_count": 182,
   "metadata": {},
   "outputs": [],
   "source": [
    "sex = [str(n[5]) for n in data]"
   ]
  },
  {
   "cell_type": "code",
   "execution_count": 183,
   "metadata": {},
   "outputs": [],
   "source": [
    "sex_counts = {}\n",
    "\n",
    "for each in sex:\n",
    "    if each in sex_counts:\n",
    "        sex_counts[each] += 1\n",
    "    else:\n",
    "        sex_counts[each] = 1"
   ]
  },
  {
   "cell_type": "code",
   "execution_count": 184,
   "metadata": {},
   "outputs": [
    {
     "data": {
      "text/plain": [
       "{'M': 86349, 'F': 14449}"
      ]
     },
     "execution_count": 184,
     "metadata": {},
     "output_type": "execute_result"
    }
   ],
   "source": [
    "sex_counts"
   ]
  },
  {
   "cell_type": "markdown",
   "metadata": {},
   "source": [
    "## Counts of Gun Deaths by race"
   ]
  },
  {
   "cell_type": "code",
   "execution_count": 185,
   "metadata": {},
   "outputs": [],
   "source": [
    "race = [n[7] for n in data]"
   ]
  },
  {
   "cell_type": "code",
   "execution_count": 187,
   "metadata": {},
   "outputs": [],
   "source": [
    "race_counts = {}\n",
    "\n",
    "for each in race:\n",
    "    if each in race_counts:\n",
    "        race_counts[each] += 1\n",
    "    else:\n",
    "        race_counts[each] = 1"
   ]
  },
  {
   "cell_type": "markdown",
   "metadata": {},
   "source": [
    "## Counts of Gun Deaths by gender+race"
   ]
  },
  {
   "cell_type": "code",
   "execution_count": 188,
   "metadata": {},
   "outputs": [],
   "source": [
    "gender_sex_counts_list = []\n",
    "\n",
    "for n in data:\n",
    "    if n[5] == \"M\" or n[5] == \"F\":\n",
    "        sum1 = n[5] + \" & \" + n[7]\n",
    "        gender_sex_counts_list.append(sum1)\n"
   ]
  },
  {
   "cell_type": "code",
   "execution_count": 189,
   "metadata": {},
   "outputs": [],
   "source": [
    "gender_sex_counts = {}\n",
    "\n",
    "for each in gender_sex_counts_list:\n",
    "    if each in gender_sex_counts:\n",
    "        gender_sex_counts[each] += 1\n",
    "    else:\n",
    "        gender_sex_counts[each] = 1"
   ]
  },
  {
   "cell_type": "code",
   "execution_count": 190,
   "metadata": {},
   "outputs": [
    {
     "data": {
      "text/plain": [
       "{'M & Asian/Pacific Islander': 1082,\n",
       " 'F & White': 10687,\n",
       " 'M & White': 55550,\n",
       " 'M & Native American/Native Alaskan': 790,\n",
       " 'M & Black': 20978,\n",
       " 'F & Black': 2318,\n",
       " 'F & Native American/Native Alaskan': 127,\n",
       " 'F & Hispanic': 1073,\n",
       " 'M & Hispanic': 7949,\n",
       " 'F & Asian/Pacific Islander': 244}"
      ]
     },
     "execution_count": 190,
     "metadata": {},
     "output_type": "execute_result"
    }
   ],
   "source": [
    "gender_sex_counts"
   ]
  },
  {
   "cell_type": "code",
   "execution_count": 191,
   "metadata": {},
   "outputs": [
    {
     "name": "stdout",
     "output_type": "stream",
     "text": [
      "{'2012': 33563, '2013': 33636, '2014': 33599}\n",
      "{'Asian/Pacific Islander': 1326, 'White': 66237, 'Native American/Native Alaskan': 917, 'Black': 23296, 'Hispanic': 9022}\n",
      "{'M': 86349, 'F': 14449}\n",
      "{'M & Asian/Pacific Islander': 1082, 'F & White': 10687, 'M & White': 55550, 'M & Native American/Native Alaskan': 790, 'M & Black': 20978, 'F & Black': 2318, 'F & Native American/Native Alaskan': 127, 'F & Hispanic': 1073, 'M & Hispanic': 7949, 'F & Asian/Pacific Islander': 244}\n"
     ]
    }
   ],
   "source": [
    "print(years_counts)\n",
    "\n",
    "print(race_counts)\n",
    "print(sex_counts)\n",
    "\n",
    "print(gender_sex_counts)"
   ]
  },
  {
   "cell_type": "markdown",
   "metadata": {},
   "source": [
    "# Findings so far"
   ]
  },
  {
   "cell_type": "markdown",
   "metadata": {},
   "source": [
    "Up until this point data has been cleaned, headers removed for accurate data analysis, and some variables have been created for initial overview of gun deaths in the USA between 2012-2014.\n",
    "\n",
    "Four new variables were created: years_counts (which counts the number of incidents per unique year); race_counts (accounting for the number of incidents per race); sex_counts (the total number of incidents according to gender); and gender_sex_counts (which analyses the intersection of the values of gender and race, per unique key)."
   ]
  },
  {
   "cell_type": "markdown",
   "metadata": {},
   "source": [
    "Years Counts:\n",
    "    - There is a stable number of incidents from the beginning of 2012 until 2014;\n",
    "    - 2013 was the year with the highest number of gun deaths in the USA, with 33636 incidents;\n",
    "\n",
    "Race Counts:\n",
    "    - White (65,7%), Black (23,1%) and Hispanics (8,9%) make the top 3 of the races by gun deaths;\n",
    "\n",
    "Gender Counts:\n",
    "    - Males are the group that was most affected by gun deaths in the US during this period with        85,6% of the total.\n",
    "\n",
    "Race+Gender Counts:\n",
    "    - From the data, the highest number of gun deaths belong to the group Male + White (55,1% of the total of deaths), followed by Male + Black (20,8%), and Female + White (10,6%)."
   ]
  },
  {
   "cell_type": "markdown",
   "metadata": {},
   "source": [
    "We now want to compare this data with the total population by race and display the values in a more tangible way by reducing the values to order of per 100k inhabitants.\n",
    "\n",
    "For that we took a census dataset and mapped it according to our population keys: Asian/Pacific Islander, Native American/Native Alaskan, Black, Hispanic, White."
   ]
  },
  {
   "cell_type": "code",
   "execution_count": 192,
   "metadata": {},
   "outputs": [],
   "source": [
    "g = open(\"census.csv\",\"r\")\n",
    "data_census = csv.reader(g)\n",
    "census = list(data_census)\n",
    "#census = census[1:]"
   ]
  },
  {
   "cell_type": "code",
   "execution_count": 193,
   "metadata": {},
   "outputs": [
    {
     "name": "stdout",
     "output_type": "stream",
     "text": [
      "[['Id', 'Year', 'Id', 'Sex', 'Id', 'Hispanic Origin', 'Id', 'Id2', 'Geography', 'Total', 'Race Alone - White', 'Race Alone - Hispanic', 'Race Alone - Black or African American', 'Race Alone - American Indian and Alaska Native', 'Race Alone - Asian', 'Race Alone - Native Hawaiian and Other Pacific Islander', 'Two or More Races'], ['cen42010', 'April 1, 2010 Census', 'totsex', 'Both Sexes', 'tothisp', 'Total', '0100000US', '', 'United States', '308745538', '197318956', '44618105', '40250635', '3739506', '15159516', '674625', '6984195']]\n"
     ]
    }
   ],
   "source": [
    "print(census)"
   ]
  },
  {
   "cell_type": "markdown",
   "metadata": {},
   "source": [
    "## Creating a map of total population values to match our population keys"
   ]
  },
  {
   "cell_type": "code",
   "execution_count": 194,
   "metadata": {},
   "outputs": [],
   "source": [
    "mapping = {\n",
    "    \"Asian/Pacific Islander\": 15159516 + 674625,\n",
    "    \"Native American/Native Alaskan\": 3739506,\n",
    "    \"Black\": 40250635,\n",
    "    \"Hispanic\": 44618105,\n",
    "    \"White\": 197318956\n",
    "}"
   ]
  },
  {
   "cell_type": "code",
   "execution_count": 195,
   "metadata": {},
   "outputs": [],
   "source": [
    "race_per_hundredk = {}\n",
    "\n",
    "for each in race_counts:\n",
    "    race_per_hundredk[each] = (race_counts[each] / mapping[each])*100000"
   ]
  },
  {
   "cell_type": "code",
   "execution_count": 196,
   "metadata": {},
   "outputs": [
    {
     "data": {
      "text/plain": [
       "{'Asian/Pacific Islander': 8.374309664161762,\n",
       " 'White': 33.56849303419181,\n",
       " 'Native American/Native Alaskan': 24.521955573811088,\n",
       " 'Black': 57.8773477735196,\n",
       " 'Hispanic': 20.220491210910907}"
      ]
     },
     "execution_count": 196,
     "metadata": {},
     "output_type": "execute_result"
    }
   ],
   "source": [
    "race_per_hundredk"
   ]
  },
  {
   "cell_type": "markdown",
   "metadata": {},
   "source": [
    "## Homicide Rates by Race"
   ]
  },
  {
   "cell_type": "code",
   "execution_count": 197,
   "metadata": {},
   "outputs": [],
   "source": [
    "intents = [n[3] for n in data]"
   ]
  },
  {
   "cell_type": "code",
   "execution_count": 198,
   "metadata": {},
   "outputs": [],
   "source": [
    "homicide_race_counts = {}\n",
    "\n",
    "for i, race in enumerate(race):\n",
    "    if intents[i] == \"Homicide\":\n",
    "        if race not in homicide_race_counts:\n",
    "            homicide_race_counts[race] = 0\n",
    "        homicide_race_counts[race] = homicide_race_counts[race] + 1"
   ]
  },
  {
   "cell_type": "code",
   "execution_count": 199,
   "metadata": {},
   "outputs": [
    {
     "data": {
      "text/plain": [
       "{'White': 9147,\n",
       " 'Asian/Pacific Islander': 559,\n",
       " 'Black': 19510,\n",
       " 'Native American/Native Alaskan': 326,\n",
       " 'Hispanic': 5634}"
      ]
     },
     "execution_count": 199,
     "metadata": {},
     "output_type": "execute_result"
    }
   ],
   "source": [
    "homicide_race_counts"
   ]
  },
  {
   "cell_type": "code",
   "execution_count": 200,
   "metadata": {},
   "outputs": [],
   "source": [
    "race_perhundredk_homicide = {}\n",
    "\n",
    "for each in homicide_race_counts:\n",
    "    race_perhundredk_homicide[each] = (homicide_race_counts[each] / mapping[each])*100000"
   ]
  },
  {
   "cell_type": "code",
   "execution_count": 201,
   "metadata": {},
   "outputs": [
    {
     "data": {
      "text/plain": [
       "{'White': 4.6356417981453335,\n",
       " 'Asian/Pacific Islander': 3.530346230970155,\n",
       " 'Black': 48.471284987180944,\n",
       " 'Native American/Native Alaskan': 8.717729026240365,\n",
       " 'Hispanic': 12.627161104219914}"
      ]
     },
     "execution_count": 201,
     "metadata": {},
     "output_type": "execute_result"
    }
   ],
   "source": [
    "race_perhundredk_homicide"
   ]
  },
  {
   "cell_type": "markdown",
   "metadata": {},
   "source": [
    "# Findings (up to this point)\n",
    "In previous findings it was found that the White and Males groups were the ones most affected by gun deaths in the USA.\n",
    "\n",
    "If we \"add\" the total number of each population to equation the scenery changes drastically:\n",
    "    - Black and Native American/Native Alaskan are, in general, the races (per 100k inhabitants) that are most affected by gun deaths;\n",
    "    - Looking into deaths by homicide (per 100k inhabitants), Black and Hispanic are the most affected populations, while Asian/Pacific Islander and White are the least affected;\n",
    "    \n",
    "In the following line we will further investigate the rates of **homicide by gender**, **seasonality of deaths by guns**, **location** and **education of victim** factors, and others.    "
   ]
  },
  {
   "cell_type": "markdown",
   "metadata": {},
   "source": [
    "# Bonus Analyses"
   ]
  },
  {
   "cell_type": "markdown",
   "metadata": {},
   "source": [
    "## Homicide by Gender"
   ]
  },
  {
   "cell_type": "code",
   "execution_count": 202,
   "metadata": {},
   "outputs": [],
   "source": [
    "homicide_sex_counts = {}\n",
    "\n",
    "for i, gender in enumerate(sex):\n",
    "    if gender not in homicide_sex_counts:\n",
    "        homicide_sex_counts[gender] = 0\n",
    "    if intents[i] == \"Homicide\":\n",
    "        homicide_sex_counts[gender] = homicide_sex_counts[gender] + 1"
   ]
  },
  {
   "cell_type": "code",
   "execution_count": 203,
   "metadata": {},
   "outputs": [
    {
     "data": {
      "text/plain": [
       "{'M': 29803, 'F': 5373}"
      ]
     },
     "execution_count": 203,
     "metadata": {},
     "output_type": "execute_result"
    }
   ],
   "source": [
    "homicide_sex_counts"
   ]
  },
  {
   "cell_type": "code",
   "execution_count": 204,
   "metadata": {},
   "outputs": [],
   "source": [
    "total_population = sum(mapping.values())\n",
    "sex_perhundredk_homicide_counts = {}\n",
    "\n",
    "for each in homicide_sex_counts:\n",
    "    sex_perhundredk_homicide_counts[each] = (homicide_sex_counts[each] / total_population) * 100000"
   ]
  },
  {
   "cell_type": "code",
   "execution_count": 205,
   "metadata": {},
   "outputs": [
    {
     "data": {
      "text/plain": [
       "{'M': 9.87634787932396, 'F': 1.7805461582930453}"
      ]
     },
     "execution_count": 205,
     "metadata": {},
     "output_type": "execute_result"
    }
   ],
   "source": [
    "sex_perhundredk_homicide_counts"
   ]
  },
  {
   "cell_type": "markdown",
   "metadata": {},
   "source": [
    "From 2012 to 2014 Males suffered 5,55 times more homicides than Females in the USA, per 100k inhabitants."
   ]
  },
  {
   "cell_type": "markdown",
   "metadata": {},
   "source": [
    "## Location analysis"
   ]
  },
  {
   "cell_type": "code",
   "execution_count": 206,
   "metadata": {},
   "outputs": [],
   "source": [
    "location = [n[9] for n in data]\n",
    "location_counts = {}\n",
    "\n",
    "for each in location:\n",
    "    if each in location_counts:\n",
    "        location_counts[each] += 1\n",
    "    else:\n",
    "        location_counts[each] = 1"
   ]
  },
  {
   "cell_type": "code",
   "execution_count": 207,
   "metadata": {},
   "outputs": [],
   "source": [
    "location_homicide_counts = {}\n",
    "\n",
    "for i, locations in enumerate(location):\n",
    "    if locations not in location_homicide_counts:\n",
    "        location_homicide_counts[locations] = 0\n",
    "    if intents[i] == \"Homicide\":\n",
    "        location_homicide_counts[locations] += 1"
   ]
  },
  {
   "cell_type": "code",
   "execution_count": 208,
   "metadata": {},
   "outputs": [
    {
     "data": {
      "text/plain": [
       "[('Home', 13613),\n",
       " ('Street', 8867),\n",
       " ('Other specified', 5429),\n",
       " ('Other unspecified', 3604),\n",
       " ('Trade/service area', 1663),\n",
       " ('NA', 1383),\n",
       " ('School/instiution', 361),\n",
       " ('Industrial/construction', 85),\n",
       " ('Farm', 76),\n",
       " ('Residential institution', 73),\n",
       " ('Sports', 22)]"
      ]
     },
     "execution_count": 208,
     "metadata": {},
     "output_type": "execute_result"
    }
   ],
   "source": [
    "import operator\n",
    "sorted_location_homicide_counts = sorted(location_homicide_counts.items(), key=operator.itemgetter(1), reverse=True)\n",
    "\n",
    "sorted_location_homicide_counts"
   ]
  },
  {
   "cell_type": "markdown",
   "metadata": {},
   "source": [
    "While checking the Homicide values in different settings, we found the different locations where homicides took place. After that, these values were ordered and it was found that most of the homicides happened at Home (13613) and on the Street (8867)."
   ]
  },
  {
   "cell_type": "markdown",
   "metadata": {},
   "source": [
    "## Police involvement in the shooting"
   ]
  },
  {
   "cell_type": "code",
   "execution_count": 209,
   "metadata": {},
   "outputs": [],
   "source": [
    "police = [n[4] for n in data]\n",
    "\n",
    "police_counts = {}\n",
    "\n",
    "for each in police:\n",
    "    if each in police_counts:\n",
    "        police_counts[each] += 1\n",
    "    else:\n",
    "        police_counts[each] = 1\n"
   ]
  },
  {
   "cell_type": "code",
   "execution_count": 210,
   "metadata": {},
   "outputs": [],
   "source": [
    "police_homicide_counts = {}\n",
    "\n",
    "for i, plc in enumerate(police):\n",
    "    if plc not in police_homicide_counts:\n",
    "        police_homicide_counts[plc] = 0\n",
    "    if intents[i] == \"Homicide\":\n",
    "        police_homicide_counts[plc] += 1"
   ]
  },
  {
   "cell_type": "code",
   "execution_count": 211,
   "metadata": {},
   "outputs": [
    {
     "name": "stdout",
     "output_type": "stream",
     "text": [
      "Total police interventions: {'0': 99396, '1': 1402}\n",
      "Total police interventions for homicides: {'0': 33774, '1': 1402}\n",
      "0 represents no involvement of a police officer; 1 does.\n"
     ]
    }
   ],
   "source": [
    "print(\"Total police interventions: \" + str(police_counts))\n",
    "\n",
    "print(\"Total police interventions for homicides: \" + str(police_homicide_counts))\n",
    "\n",
    "print(\"0 represents no involvement of a police officer; 1 does.\")"
   ]
  },
  {
   "cell_type": "markdown",
   "metadata": {},
   "source": [
    "Shockingly, every time a police officer was involved in a shooting, the cause of death was Homicide. It is unclear if the cause of death was caused by a perpretator or a police officer."
   ]
  },
  {
   "cell_type": "markdown",
   "metadata": {},
   "source": [
    "## Education of Homicide victims"
   ]
  },
  {
   "cell_type": "code",
   "execution_count": 212,
   "metadata": {},
   "outputs": [],
   "source": [
    "education = [n[10] for n in data]"
   ]
  },
  {
   "cell_type": "code",
   "execution_count": 213,
   "metadata": {},
   "outputs": [],
   "source": [
    "education_counts = {}\n",
    "\n",
    "for each in education:\n",
    "    if each in education_counts:\n",
    "        education_counts[each] += 1\n",
    "    else:\n",
    "        education_counts[each] = 0"
   ]
  },
  {
   "cell_type": "code",
   "execution_count": 214,
   "metadata": {},
   "outputs": [],
   "source": [
    "education_homicide_counts = {}\n",
    "\n",
    "for i, educ in enumerate(education):\n",
    "    if educ not in education_homicide_counts:\n",
    "        education_homicide_counts[educ] = 0\n",
    "    if intents[i] == \"Homicide\":\n",
    "        education_homicide_counts[educ] += 1"
   ]
  },
  {
   "cell_type": "code",
   "execution_count": 215,
   "metadata": {},
   "outputs": [
    {
     "data": {
      "text/plain": [
       "[('HS/GED', 15649),\n",
       " ('Less than HS', 11839),\n",
       " ('Some college', 5640),\n",
       " ('BA+', 1559),\n",
       " ('NA', 489)]"
      ]
     },
     "execution_count": 215,
     "metadata": {},
     "output_type": "execute_result"
    }
   ],
   "source": [
    "sorted_education_homicide_counts = sorted(education_homicide_counts.items(), key=operator.itemgetter(1), reverse=True)\n",
    "\n",
    "sorted_education_homicide_counts"
   ]
  },
  {
   "cell_type": "markdown",
   "metadata": {},
   "source": [
    "## Seasonality of Homicides"
   ]
  },
  {
   "cell_type": "code",
   "execution_count": 216,
   "metadata": {},
   "outputs": [],
   "source": [
    "def sorter(self):\n",
    "    newlst = sorted(self.items(), key=operator.itemgetter(1), reverse=True)\n",
    "    return newlst"
   ]
  },
  {
   "cell_type": "code",
   "execution_count": 217,
   "metadata": {},
   "outputs": [],
   "source": [
    "sorted_dates = sorter(dates_counts)"
   ]
  },
  {
   "cell_type": "code",
   "execution_count": 218,
   "metadata": {},
   "outputs": [
    {
     "data": {
      "text/plain": [
       "[(datetime.datetime(2012, 7, 1, 0, 0), 1160),\n",
       " (datetime.datetime(2013, 7, 1, 0, 0), 1137),\n",
       " (datetime.datetime(2012, 8, 1, 0, 0), 1090),\n",
       " (datetime.datetime(2012, 12, 1, 0, 0), 1083),\n",
       " (datetime.datetime(2014, 12, 1, 0, 0), 1080),\n",
       " (datetime.datetime(2012, 9, 1, 0, 0), 1070),\n",
       " (datetime.datetime(2013, 6, 1, 0, 0), 1066),\n",
       " (datetime.datetime(2012, 6, 1, 0, 0), 1044),\n",
       " (datetime.datetime(2014, 8, 1, 0, 0), 1035),\n",
       " (datetime.datetime(2013, 12, 1, 0, 0), 1028)]"
      ]
     },
     "execution_count": 218,
     "metadata": {},
     "output_type": "execute_result"
    }
   ],
   "source": [
    "homicides_dates = {}\n",
    "\n",
    "for i, date in enumerate(dates):\n",
    "    if date not in homicides_dates:\n",
    "        homicides_dates[date] = 0\n",
    "    if intents[i] == \"Homicide\":\n",
    "        homicides_dates[date] += 1\n",
    "                \n",
    "sorted_homicides_dates = sorter(homicides_dates)\n",
    "sorted_homicides_dates[0:10]"
   ]
  },
  {
   "cell_type": "markdown",
   "metadata": {},
   "source": [
    "Seasonality for homicides was also studied and it seems Summer months (July, August) and December are when most homicides happen. July was the month with most fatalities for two straight years in 2012 and 2013."
   ]
  },
  {
   "cell_type": "markdown",
   "metadata": {},
   "source": [
    "# Findings on Homicides\n",
    "The most vulnerable group to suffer from a homicide crime by gun in the US belongs to a Male category that is either still in High School/GED, or only completed it, and usually there isn't a police officer intervening (this would need further investigation to understand what kind of role they play). Also, it was discovered that the victims are usually killed at their homes and that the peak of homicides happend during July, August, and December."
   ]
  }
 ],
 "metadata": {
  "kernelspec": {
   "display_name": "Python 3",
   "language": "python",
   "name": "python3"
  },
  "language_info": {
   "codemirror_mode": {
    "name": "ipython",
    "version": 3
   },
   "file_extension": ".py",
   "mimetype": "text/x-python",
   "name": "python",
   "nbconvert_exporter": "python",
   "pygments_lexer": "ipython3",
   "version": "3.7.0"
  }
 },
 "nbformat": 4,
 "nbformat_minor": 2
}
