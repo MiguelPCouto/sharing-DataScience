    "In this project, I've worked entirely with **Python** and **Jupyter notebook**. \n",
    "\n",
    "The objective was to analyze data on gun deaths in the USA during the period of 2012-2014.\n",
    "\n",
    "Two different datasets were used: **fulldata.csv**, **census.csv**. \n",
    "The first includes detailed data on gun deaths, while the second is a census dataset containing the total population numbers by race which was used to calculate the rates of deaths per 100k inhabitants. \n",
    "\n",
    "Any questions or suggestions are very welcome!"
