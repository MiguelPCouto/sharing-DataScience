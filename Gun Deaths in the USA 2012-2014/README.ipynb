{
 "cells": [
  {
   "cell_type": "markdown",
   "metadata": {},
   "source": [
    "# Readme!"
   ]
  },
  {
   "cell_type": "markdown",
   "metadata": {},
   "source": [
    "In this project, I've worked entirely with **Python** and **Jupyter notebook**. \n",
    "\n",
    "The objective was to analyze data on gun deaths in the USA during the period of 2012-2014.\n",
    "\n",
    "Two different datasets were used: **fulldata.csv**, **census.csv**. \n",
    "The first includes detailed data on gun deaths, while the second is a census dataset containing the total population numbers by race which was used to calculate the rates of deaths per 100k inhabitants. \n",
    "\n",
    "Any questions or suggestions are very welcome!"
   ]
  },
  {
   "cell_type": "code",
   "execution_count": null,
   "metadata": {},
   "outputs": [],
   "source": []
  }
 ],
 "metadata": {
  "kernelspec": {
   "display_name": "Python 3",
   "language": "python",
   "name": "python3"
  },
  "language_info": {
   "codemirror_mode": {
    "name": "ipython",
    "version": 3
   },
   "file_extension": ".py",
   "mimetype": "text/x-python",
   "name": "python",
   "nbconvert_exporter": "python",
   "pygments_lexer": "ipython3",
   "version": "3.7.0"
  }
 },
 "nbformat": 4,
 "nbformat_minor": 2
}
